{
 "cells": [
  {
   "cell_type": "markdown",
   "metadata": {},
   "source": [
    "Here are a brief study notes of Python for later quick review. \n",
    "\n",
    "Materials are based on: \n",
    "\n",
    "* Python 101 written by Michael Driscoll at https://python101.pythonlibrary.org/\n",
    "\n",
    "* A Byte of Python at https://python.swaroopch.com/"
   ]
  },
  {
   "cell_type": "markdown",
   "metadata": {},
   "source": [
    "## Basics \n",
    "Python is an interpretive language and runs in Python interpreter. "
   ]
  },
  {
   "cell_type": "code",
   "execution_count": 2,
   "metadata": {},
   "outputs": [
    {
     "name": "stdout",
     "output_type": "stream",
     "text": [
      "Hello World\n"
     ]
    }
   ],
   "source": [
    "print('Hello World')"
   ]
  },
  {
   "cell_type": "markdown",
   "metadata": {},
   "source": [
    "### Strings \n",
    "Strings are immutable types \n",
    "\n",
    "* Create strings with single, double or triple quotes. \n",
    "* Concatenate strings with + \n",
    "* String methods such as len, upper, lower ... \n",
    "* String slicing with $[i, j]$\n",
    "* String formatting and substitutioin similar as in C\n",
    "* Raw string can be used if strings without special processing such as escape are needed, e.g., r \"Raw string. \\n\"\n",
    "* some useful string methods such as `startswith`, `in`, `find`, `join` ...\n"
   ]
  },
  {
   "cell_type": "code",
   "execution_count": 13,
   "metadata": {},
   "outputs": [
    {
     "data": {
      "text/plain": [
       "'test string'"
      ]
     },
     "execution_count": 13,
     "metadata": {},
     "output_type": "execute_result"
    }
   ],
   "source": [
    "# Creation\n",
    "mystring = \"test string\"\n",
    "newstring = \"new\"\n",
    "mystring\n"
   ]
  },
  {
   "cell_type": "code",
   "execution_count": 16,
   "metadata": {},
   "outputs": [
    {
     "name": "stdout",
     "output_type": "stream",
     "text": [
      "test stringnew\n",
      "139842324890096\n"
     ]
    }
   ],
   "source": [
    "# concatenation\n",
    "newest = mystring + newstring \n",
    "print(newest)\n",
    "print(id(newest))"
   ]
  },
  {
   "cell_type": "code",
   "execution_count": 18,
   "metadata": {},
   "outputs": [
    {
     "data": {
      "text/plain": [
       "'TEST STRINGNEW'"
      ]
     },
     "execution_count": 18,
     "metadata": {},
     "output_type": "execute_result"
    }
   ],
   "source": [
    "# String methods \n",
    "\n",
    "# upper case \n",
    "newest.upper()"
   ]
  },
  {
   "cell_type": "code",
   "execution_count": 22,
   "metadata": {},
   "outputs": [
    {
     "data": {
      "text/plain": [
       "14"
      ]
     },
     "execution_count": 22,
     "metadata": {},
     "output_type": "execute_result"
    }
   ],
   "source": [
    "# lenth \n",
    "len(newest)"
   ]
  },
  {
   "cell_type": "code",
   "execution_count": 24,
   "metadata": {},
   "outputs": [
    {
     "name": "stdout",
     "output_type": "stream",
     "text": [
      "Help on built-in function len in module builtins:\n",
      "\n",
      "len(obj, /)\n",
      "    Return the number of items in a container.\n",
      "\n"
     ]
    }
   ],
   "source": [
    "# help \n",
    "help(len)"
   ]
  },
  {
   "cell_type": "code",
   "execution_count": 36,
   "metadata": {},
   "outputs": [
    {
     "data": {
      "text/plain": [
       "str"
      ]
     },
     "execution_count": 36,
     "metadata": {},
     "output_type": "execute_result"
    }
   ],
   "source": [
    "# types of string\n",
    "type(newest)"
   ]
  },
  {
   "cell_type": "code",
   "execution_count": 41,
   "metadata": {},
   "outputs": [
    {
     "data": {
      "text/plain": [
       "'t'"
      ]
     },
     "execution_count": 41,
     "metadata": {},
     "output_type": "execute_result"
    }
   ],
   "source": [
    "# slicing \n",
    "newest[0:1]  # start from loc 0, up to loc 1 BUT not include loc 1"
   ]
  },
  {
   "cell_type": "code",
   "execution_count": 39,
   "metadata": {},
   "outputs": [
    {
     "data": {
      "text/plain": [
       "'test stringnew'"
      ]
     },
     "execution_count": 39,
     "metadata": {},
     "output_type": "execute_result"
    }
   ],
   "source": [
    "newest[:]"
   ]
  },
  {
   "cell_type": "code",
   "execution_count": 43,
   "metadata": {},
   "outputs": [
    {
     "data": {
      "text/plain": [
       "'test stri'"
      ]
     },
     "execution_count": 43,
     "metadata": {},
     "output_type": "execute_result"
    }
   ],
   "source": [
    "newest[0:-5] # ends 5 characters before the end of the string "
   ]
  },
  {
   "cell_type": "code",
   "execution_count": 45,
   "metadata": {},
   "outputs": [
    {
     "data": {
      "text/plain": [
       "'I like sleeping'"
      ]
     },
     "execution_count": 45,
     "metadata": {},
     "output_type": "execute_result"
    }
   ],
   "source": [
    "# string formatting \n",
    "string1 = 'I like %s' %'sleeping'\n",
    "string1"
   ]
  },
  {
   "cell_type": "code",
   "execution_count": 47,
   "metadata": {},
   "outputs": [
    {
     "data": {
      "text/plain": [
       "'1.23'"
      ]
     },
     "execution_count": 47,
     "metadata": {},
     "output_type": "execute_result"
    }
   ],
   "source": [
    "float_string = '%.2f' %(1.23423) # round to second decimal places \n",
    "float_string"
   ]
  },
  {
   "cell_type": "code",
   "execution_count": 2,
   "metadata": {},
   "outputs": [
    {
     "name": "stdout",
     "output_type": "stream",
     "text": [
      "Python is fun\n"
     ]
    }
   ],
   "source": [
    "# use %s with a variable inside for formatting \n",
    "print(\"%(lang)s is fun\" %{\"lang\":\"Python\"}) # use dictionary to define the value for key lang"
   ]
  },
  {
   "cell_type": "markdown",
   "metadata": {},
   "source": [
    "### Raw string "
   ]
  },
  {
   "cell_type": "code",
   "execution_count": 10,
   "metadata": {},
   "outputs": [
    {
     "name": "stdout",
     "output_type": "stream",
     "text": [
      "Newlines are indicated by \\n\n"
     ]
    }
   ],
   "source": [
    "newstring = r\"Newlines are indicated by \\n\"\n",
    "print(newstring)"
   ]
  },
  {
   "cell_type": "markdown",
   "metadata": {},
   "source": [
    "### String methods"
   ]
  },
  {
   "cell_type": "code",
   "execution_count": 17,
   "metadata": {},
   "outputs": [
    {
     "name": "stdout",
     "output_type": "stream",
     "text": [
      "newstr starts with 'co' \n",
      "py in newstr\n",
      "th is in newstr\n",
      "apple_*_orange_*_peach\n"
     ]
    }
   ],
   "source": [
    "newstr = 'coolpython'\n",
    "\n",
    "if newstr.startswith('co'):\n",
    "    print('newstr starts with \\'co\\' ')\n",
    "\n",
    "# in \n",
    "if 'py' in newstr:\n",
    "    print('py in newstr')\n",
    "\n",
    "# find: returns -1 if not in the string  \n",
    "if newstr.find('th') != -1: \n",
    "    print('th is in newstr')\n",
    "    \n",
    "# join: join items of sequences with a string acting as delimiter\n",
    "\n",
    "delimiter = '_*_'\n",
    "fruit = ['apple', 'orange', 'peach']\n",
    "print(delimiter.join(fruit))"
   ]
  },
  {
   "cell_type": "markdown",
   "metadata": {},
   "source": [
    "## Modules \n",
    "\n",
    "Modules are used when you want to re-use a number of functions in other programs that you write.  Methods to write modules include: \n",
    "\n",
    "* Create a file with .py extension that contains functions and variables. \n",
    "* Write modules in the native language in which Python interpreter itself was written, for example, C language. \n",
    "\n",
    "Every module has an attribute `__name__`, and the statements in the module can find out this name. The purpose is to figure out whether the module is **being run alone (__name__ == '__main__) or being imported (__name__ = module name)**. \n",
    "\n",
    "* `dir(module_name)` function returns a list of functions, classes and variables in a module."
   ]
  },
  {
   "cell_type": "code",
   "execution_count": 11,
   "metadata": {},
   "outputs": [
    {
     "name": "stdout",
     "output_type": "stream",
     "text": [
      "The command line arguments are:\n",
      "/usr/local/lib/python3.6/site-packages/ipykernel_launcher.py\n",
      "-f\n",
      "/run/user/1000/jupyter/kernel-ebbb89b3-02de-417b-b1da-b410d50d2284.json\n",
      "\n",
      " The python path is ['', '/usr/local/lib/python36.zip', '/usr/local/lib/python3.6', '/usr/local/lib/python3.6/lib-dynload', '/home/qshan/.local/lib/python3.6/site-packages', '/usr/local/lib/python3.6/site-packages', '/usr/local/lib/python3.6/site-packages/IPython/extensions', '/home/qshan/.ipython'] \n",
      "\n"
     ]
    }
   ],
   "source": [
    "# use standard library modules \n",
    "import sys \n",
    "print('The command line arguments are:')\n",
    "for i in sys.argv:\n",
    "    print(i)\n",
    "    \n",
    "print('\\n The python path is', sys.path, '\\n')"
   ]
  },
  {
   "cell_type": "markdown",
   "metadata": {},
   "source": [
    "### Test \\__name__ attribue "
   ]
  },
  {
   "cell_type": "code",
   "execution_count": 12,
   "metadata": {},
   "outputs": [
    {
     "name": "stdout",
     "output_type": "stream",
     "text": [
      "This program has name main.\n"
     ]
    }
   ],
   "source": [
    "# make up a file \n",
    "if __name__ == '__main__':\n",
    "    print('This program has name main.')\n",
    "else:\n",
    "    print('This program is imported from another module.')\n",
    "    print(__name__)\n",
    "# save the above file in a test python file called module_using_name"
   ]
  },
  {
   "cell_type": "code",
   "execution_count": 14,
   "metadata": {},
   "outputs": [
    {
     "name": "stdout",
     "output_type": "stream",
     "text": [
      "This program is imported from another module.\n",
      "module_using_name\n"
     ]
    }
   ],
   "source": [
    "import module_using_name"
   ]
  },
  {
   "cell_type": "markdown",
   "metadata": {},
   "source": [
    "### `dir()` function"
   ]
  },
  {
   "cell_type": "code",
   "execution_count": 15,
   "metadata": {},
   "outputs": [
    {
     "data": {
      "text/plain": [
       "['In',\n",
       " 'Out',\n",
       " '_',\n",
       " '__',\n",
       " '___',\n",
       " '__builtin__',\n",
       " '__builtins__',\n",
       " '__doc__',\n",
       " '__loader__',\n",
       " '__name__',\n",
       " '__package__',\n",
       " '__spec__',\n",
       " '_dh',\n",
       " '_i',\n",
       " '_i1',\n",
       " '_i10',\n",
       " '_i11',\n",
       " '_i12',\n",
       " '_i13',\n",
       " '_i14',\n",
       " '_i15',\n",
       " '_i2',\n",
       " '_i3',\n",
       " '_i4',\n",
       " '_i5',\n",
       " '_i6',\n",
       " '_i7',\n",
       " '_i8',\n",
       " '_i9',\n",
       " '_ih',\n",
       " '_ii',\n",
       " '_iii',\n",
       " '_oh',\n",
       " 'exit',\n",
       " 'get_ipython',\n",
       " 'i',\n",
       " 'module_using_name',\n",
       " 'newstring',\n",
       " 'quit',\n",
       " 'sys']"
      ]
     },
     "execution_count": 15,
     "metadata": {},
     "output_type": "execute_result"
    }
   ],
   "source": [
    "dir()"
   ]
  },
  {
   "cell_type": "markdown",
   "metadata": {},
   "source": [
    "## Data Structures\n",
    "\n",
    "* list, mutable,  a data structure that holds an ordered collection of items enclosed in square brackets. A list is an example of usage of objects and classes. \n",
    "\n",
    "* tuple, immutable, hold together multiple objects. Tuples are defined by specifying items separated by commas within an optional pair of parentheses.\n",
    "\n",
    "* dictionary contains pairs of keys (unique, immutable) and values (mutable). The dictionaries are instances/objects of the dict class.\n",
    "\n",
    "\n",
    "* set, unordered collections of simple objects. Can test membership, subset, intersectoin between two sets and so on.\n",
    "\n"
   ]
  },
  {
   "cell_type": "code",
   "execution_count": 4,
   "metadata": {},
   "outputs": [
    {
     "name": "stdout",
     "output_type": "stream",
     "text": [
      "These items are:  apple mango carrot banana \n",
      "I also have to buy rice.\n",
      "My shopping list is updated as  ['apple', 'mango', 'carrot', 'banana', 'rice']\n",
      "Don't want to buy apple\n",
      "My shopping list is updated as ['mango', 'carrot', 'banana', 'rice']\n"
     ]
    }
   ],
   "source": [
    "# list example \n",
    "shoplist = ['apple', 'mango', 'carrot', 'banana']\n",
    "\n",
    "\n",
    "print('These items are: ', end = ' ')\n",
    "for item in shoplist:\n",
    "    print(item, end=' ')\n",
    "\n",
    "print('\\nI also have to buy rice.')\n",
    "shoplist.append('rice')\n",
    "print('My shopping list is updated as ', shoplist)\n",
    "\n",
    "\n",
    "\n",
    "print('Don\\'t want to buy', shoplist[0])\n",
    "\n",
    "del shoplist[0]\n",
    "print('My shopping list is updated as', shoplist)"
   ]
  },
  {
   "cell_type": "code",
   "execution_count": 5,
   "metadata": {},
   "outputs": [
    {
     "name": "stdout",
     "output_type": "stream",
     "text": [
      "Number of animals in the zoo is 3\n",
      "Number of cages in the new zoo is 3\n"
     ]
    }
   ],
   "source": [
    "# tuple example \n",
    "zoo = ('python', 'elephant', 'penguin')\n",
    "print('Number of animals in the zoo is', len(zoo))\n",
    "\n",
    "new_zoo = 'monkey', 'camel', zoo # parentheses not required but recommended\n",
    "print('Number of cages in the new zoo is', len(new_zoo))"
   ]
  },
  {
   "cell_type": "code",
   "execution_count": 7,
   "metadata": {},
   "outputs": [
    {
     "name": "stdout",
     "output_type": "stream",
     "text": [
      "Swaroop's address is swaroop@swaroopch.com\n",
      "Contact Swaroop at swaroop@swaroopch.com\n",
      "Contact Larry at larry@wall.org\n",
      "Contact Matsumoto at matz@ruby-lang.org\n",
      "\n",
      "Guido's address is guido@python.org\n"
     ]
    }
   ],
   "source": [
    "# dictionary example \n",
    "\n",
    "ab = {\n",
    "    'Swaroop': 'swaroop@swaroopch.com',\n",
    "    'Larry': 'larry@wall.org',\n",
    "    'Matsumoto': 'matz@ruby-lang.org',\n",
    "    'Spammer': 'spammer@hotmail.com'\n",
    "}\n",
    "\n",
    "print(\"Swaroop's address is\", ab['Swaroop']) # specify the key \n",
    "\n",
    "# Deleting a key-value pair\n",
    "del ab['Spammer']\n",
    "\n",
    "# print contents in dictionary \n",
    "for name, address in ab.items():\n",
    "    print('Contact {} at {}'.format(name, address))\n",
    "\n",
    "# Adding a key-value pair\n",
    "ab['Guido'] = 'guido@python.org'\n",
    "\n",
    "if 'Guido' in ab:\n",
    "    print(\"\\nGuido's address is\", ab['Guido'])"
   ]
  },
  {
   "cell_type": "markdown",
   "metadata": {},
   "source": [
    "To summarize, lists, tuples and strings are all examples of sequences that can do\n",
    "    \n",
    "   * membership tests (in and not in)\n",
    "   * indexing operations \n",
    "   * slicing\n",
    "\n"
   ]
  },
  {
   "cell_type": "code",
   "execution_count": 10,
   "metadata": {},
   "outputs": [
    {
     "name": "stdout",
     "output_type": "stream",
     "text": [
      "True\n",
      "True\n",
      "True\n"
     ]
    },
    {
     "data": {
      "text/plain": [
       "{'china', 'india', 'russia'}"
      ]
     },
     "execution_count": 10,
     "metadata": {},
     "output_type": "execute_result"
    }
   ],
   "source": [
    "# set example \n",
    "egset = set(['brazil', 'russia', 'india'])\n",
    "print('russia' in egset) \n",
    "\n",
    "egset.add('china')\n",
    "print('china' in egset) \n",
    "\n",
    "print(egset.issuperset(egset))\n",
    "\n",
    "newset = egset.copy()\n",
    "newset.remove('brazil')\n",
    "\n",
    "# intersection \n",
    "egset & newset"
   ]
  },
  {
   "cell_type": "markdown",
   "metadata": {},
   "source": [
    "### References \n",
    "\n",
    "When creating an object and assign it to a variable, the variable only referes to the object and doesn't represent the object itself (variable names points to the part of computer memory where the object is stored).  \n",
    "\n",
    "* When making copies of a list or other sequences, need to use slicing operation to make a copy. See example below."
   ]
  },
  {
   "cell_type": "code",
   "execution_count": 12,
   "metadata": {},
   "outputs": [
    {
     "name": "stdout",
     "output_type": "stream",
     "text": [
      "Original list1 is ['apple', 'mango', 'orange', 'banana']\n",
      "list1 after deletion from test is ['mango', 'orange', 'banana']\n",
      "list1 is ['orange', 'banana']\n",
      "list2 is ['mango', 'orange', 'banana']\n"
     ]
    }
   ],
   "source": [
    "# reference example \n",
    "test = ['apple', 'mango', 'orange', 'banana']\n",
    "list1 = test \n",
    "\n",
    "print('Original list1 is', list1)\n",
    "\n",
    "# delete one element from test \n",
    "del test[0]\n",
    "\n",
    "print('list1 after deletion from test is', list1)\n",
    "\n",
    "# do a full slice \n",
    "list2 = test[:]\n",
    "\n",
    "# delement one element from test \n",
    "del test[0]\n",
    "print('list1 is', list1)\n",
    "print('list2 is', list2) # not affected "
   ]
  }
 ],
 "metadata": {
  "kernelspec": {
   "display_name": "Python 3",
   "language": "python",
   "name": "python3"
  },
  "language_info": {
   "codemirror_mode": {
    "name": "ipython",
    "version": 3
   },
   "file_extension": ".py",
   "mimetype": "text/x-python",
   "name": "python",
   "nbconvert_exporter": "python",
   "pygments_lexer": "ipython3",
   "version": "3.6.3"
  }
 },
 "nbformat": 4,
 "nbformat_minor": 2
}
