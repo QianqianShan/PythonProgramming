{
 "cells": [
  {
   "cell_type": "markdown",
   "metadata": {},
   "source": [
    "Here are a brief study notes of Python for later quick review. \n",
    "\n",
    "Materials are based on: \n",
    "\n",
    "* Python 101 written by Michael Driscoll at https://python101.pythonlibrary.org/\n",
    "\n",
    "* A Byte of Python at https://python.swaroopch.com/\n",
    "\n",
    "* Python documentation: https://docs.python.org/3/tutorial/datastructures.html"
   ]
  },
  {
   "cell_type": "markdown",
   "metadata": {},
   "source": [
    "## Basics \n",
    "Python is an interpretive language and runs in Python interpreter. "
   ]
  },
  {
   "cell_type": "code",
   "execution_count": 2,
   "metadata": {},
   "outputs": [
    {
     "name": "stdout",
     "output_type": "stream",
     "text": [
      "Hello World\n"
     ]
    }
   ],
   "source": [
    "print('Hello World')"
   ]
  },
  {
   "cell_type": "markdown",
   "metadata": {},
   "source": [
    "### Strings \n",
    "Strings are immutable types \n",
    "\n",
    "* Create strings with single, double or triple quotes. \n",
    "* Concatenate strings with + \n",
    "* String methods such as len, upper, lower ... \n",
    "* String slicing with $[i, j]$\n",
    "* String formatting and substitutioin similar as in C\n",
    "* Raw string can be used if strings without special processing such as escape are needed, e.g., r \"Raw string. \\n\"\n",
    "* some useful string methods such as `startswith`, `in`, `find`, `join` ...\n"
   ]
  },
  {
   "cell_type": "code",
   "execution_count": 13,
   "metadata": {},
   "outputs": [
    {
     "data": {
      "text/plain": [
       "'test string'"
      ]
     },
     "execution_count": 13,
     "metadata": {},
     "output_type": "execute_result"
    }
   ],
   "source": [
    "# Creation\n",
    "mystring = \"test string\"\n",
    "newstring = \"new\"\n",
    "mystring\n"
   ]
  },
  {
   "cell_type": "code",
   "execution_count": 16,
   "metadata": {},
   "outputs": [
    {
     "name": "stdout",
     "output_type": "stream",
     "text": [
      "test stringnew\n",
      "139842324890096\n"
     ]
    }
   ],
   "source": [
    "# concatenation\n",
    "newest = mystring + newstring \n",
    "print(newest)\n",
    "print(id(newest))"
   ]
  },
  {
   "cell_type": "code",
   "execution_count": 18,
   "metadata": {},
   "outputs": [
    {
     "data": {
      "text/plain": [
       "'TEST STRINGNEW'"
      ]
     },
     "execution_count": 18,
     "metadata": {},
     "output_type": "execute_result"
    }
   ],
   "source": [
    "# String methods \n",
    "\n",
    "# upper case \n",
    "newest.upper()"
   ]
  },
  {
   "cell_type": "code",
   "execution_count": 22,
   "metadata": {},
   "outputs": [
    {
     "data": {
      "text/plain": [
       "14"
      ]
     },
     "execution_count": 22,
     "metadata": {},
     "output_type": "execute_result"
    }
   ],
   "source": [
    "# lenth \n",
    "len(newest)"
   ]
  },
  {
   "cell_type": "code",
   "execution_count": 24,
   "metadata": {},
   "outputs": [
    {
     "name": "stdout",
     "output_type": "stream",
     "text": [
      "Help on built-in function len in module builtins:\n",
      "\n",
      "len(obj, /)\n",
      "    Return the number of items in a container.\n",
      "\n"
     ]
    }
   ],
   "source": [
    "# help \n",
    "help(len)"
   ]
  },
  {
   "cell_type": "code",
   "execution_count": 36,
   "metadata": {},
   "outputs": [
    {
     "data": {
      "text/plain": [
       "str"
      ]
     },
     "execution_count": 36,
     "metadata": {},
     "output_type": "execute_result"
    }
   ],
   "source": [
    "# types of string\n",
    "type(newest)"
   ]
  },
  {
   "cell_type": "code",
   "execution_count": 41,
   "metadata": {},
   "outputs": [
    {
     "data": {
      "text/plain": [
       "'t'"
      ]
     },
     "execution_count": 41,
     "metadata": {},
     "output_type": "execute_result"
    }
   ],
   "source": [
    "# slicing \n",
    "newest[0:1]  # start from loc 0, up to loc 1 BUT not include loc 1"
   ]
  },
  {
   "cell_type": "code",
   "execution_count": 39,
   "metadata": {},
   "outputs": [
    {
     "data": {
      "text/plain": [
       "'test stringnew'"
      ]
     },
     "execution_count": 39,
     "metadata": {},
     "output_type": "execute_result"
    }
   ],
   "source": [
    "newest[:]"
   ]
  },
  {
   "cell_type": "code",
   "execution_count": 43,
   "metadata": {},
   "outputs": [
    {
     "data": {
      "text/plain": [
       "'test stri'"
      ]
     },
     "execution_count": 43,
     "metadata": {},
     "output_type": "execute_result"
    }
   ],
   "source": [
    "newest[0:-5] # ends 5 characters before the end of the string "
   ]
  },
  {
   "cell_type": "code",
   "execution_count": 45,
   "metadata": {},
   "outputs": [
    {
     "data": {
      "text/plain": [
       "'I like sleeping'"
      ]
     },
     "execution_count": 45,
     "metadata": {},
     "output_type": "execute_result"
    }
   ],
   "source": [
    "# string formatting \n",
    "string1 = 'I like %s' %'sleeping'\n",
    "string1"
   ]
  },
  {
   "cell_type": "code",
   "execution_count": 47,
   "metadata": {},
   "outputs": [
    {
     "data": {
      "text/plain": [
       "'1.23'"
      ]
     },
     "execution_count": 47,
     "metadata": {},
     "output_type": "execute_result"
    }
   ],
   "source": [
    "float_string = '%.2f' %(1.23423) # round to second decimal places \n",
    "float_string"
   ]
  },
  {
   "cell_type": "code",
   "execution_count": 2,
   "metadata": {},
   "outputs": [
    {
     "name": "stdout",
     "output_type": "stream",
     "text": [
      "Python is fun\n"
     ]
    }
   ],
   "source": [
    "# use %s with a variable inside for formatting \n",
    "print(\"%(lang)s is fun\" %{\"lang\":\"Python\"}) # use dictionary to define the value for key lang"
   ]
  },
  {
   "cell_type": "markdown",
   "metadata": {},
   "source": [
    "### Raw string "
   ]
  },
  {
   "cell_type": "code",
   "execution_count": 10,
   "metadata": {},
   "outputs": [
    {
     "name": "stdout",
     "output_type": "stream",
     "text": [
      "Newlines are indicated by \\n\n"
     ]
    }
   ],
   "source": [
    "newstring = r\"Newlines are indicated by \\n\"\n",
    "print(newstring)"
   ]
  },
  {
   "cell_type": "markdown",
   "metadata": {},
   "source": [
    "### String methods"
   ]
  },
  {
   "cell_type": "code",
   "execution_count": 17,
   "metadata": {},
   "outputs": [
    {
     "name": "stdout",
     "output_type": "stream",
     "text": [
      "newstr starts with 'co' \n",
      "py in newstr\n",
      "th is in newstr\n",
      "apple_*_orange_*_peach\n"
     ]
    }
   ],
   "source": [
    "newstr = 'coolpython'\n",
    "\n",
    "if newstr.startswith('co'):\n",
    "    print('newstr starts with \\'co\\' ')\n",
    "\n",
    "# in \n",
    "if 'py' in newstr:\n",
    "    print('py in newstr')\n",
    "\n",
    "# find: returns -1 if not in the string  \n",
    "if newstr.find('th') != -1: \n",
    "    print('th is in newstr')\n",
    "    \n",
    "# join: join items of sequences with a string acting as delimiter\n",
    "\n",
    "delimiter = '_*_'\n",
    "fruit = ['apple', 'orange', 'peach']\n",
    "print(delimiter.join(fruit))"
   ]
  },
  {
   "cell_type": "markdown",
   "metadata": {},
   "source": [
    "## Modules \n",
    "\n",
    "Modules are used when you want to re-use a number of functions in other programs that you write.  Methods to write modules include: \n",
    "\n",
    "* Create a file with .py extension that contains functions and variables. \n",
    "* Write modules in the native language in which Python interpreter itself was written, for example, C language. \n",
    "\n",
    "Every module has an attribute `__name__`, and the statements in the module can find out this name. The purpose is to figure out whether the module is **being run alone (__name__ == '__main__) or being imported (__name__ = module name)**. \n",
    "\n",
    "* `dir(module_name)` function returns a list of functions, classes and variables in a module."
   ]
  },
  {
   "cell_type": "code",
   "execution_count": 11,
   "metadata": {},
   "outputs": [
    {
     "name": "stdout",
     "output_type": "stream",
     "text": [
      "The command line arguments are:\n",
      "/usr/local/lib/python3.6/site-packages/ipykernel_launcher.py\n",
      "-f\n",
      "/run/user/1000/jupyter/kernel-ebbb89b3-02de-417b-b1da-b410d50d2284.json\n",
      "\n",
      " The python path is ['', '/usr/local/lib/python36.zip', '/usr/local/lib/python3.6', '/usr/local/lib/python3.6/lib-dynload', '/home/qshan/.local/lib/python3.6/site-packages', '/usr/local/lib/python3.6/site-packages', '/usr/local/lib/python3.6/site-packages/IPython/extensions', '/home/qshan/.ipython'] \n",
      "\n"
     ]
    }
   ],
   "source": [
    "# use standard library modules \n",
    "import sys \n",
    "print('The command line arguments are:')\n",
    "for i in sys.argv:\n",
    "    print(i)\n",
    "    \n",
    "print('\\n The python path is', sys.path, '\\n')"
   ]
  },
  {
   "cell_type": "markdown",
   "metadata": {},
   "source": [
    "### Test \\__name__ attribue "
   ]
  },
  {
   "cell_type": "code",
   "execution_count": 12,
   "metadata": {},
   "outputs": [
    {
     "name": "stdout",
     "output_type": "stream",
     "text": [
      "This program has name main.\n"
     ]
    }
   ],
   "source": [
    "# make up a file \n",
    "if __name__ == '__main__':\n",
    "    print('This program has name main.')\n",
    "else:\n",
    "    print('This program is imported from another module.')\n",
    "    print(__name__)\n",
    "# save the above file in a test python file called module_using_name"
   ]
  },
  {
   "cell_type": "code",
   "execution_count": 14,
   "metadata": {},
   "outputs": [
    {
     "name": "stdout",
     "output_type": "stream",
     "text": [
      "This program is imported from another module.\n",
      "module_using_name\n"
     ]
    }
   ],
   "source": [
    "import module_using_name"
   ]
  },
  {
   "cell_type": "markdown",
   "metadata": {},
   "source": [
    "### `dir()` function"
   ]
  },
  {
   "cell_type": "code",
   "execution_count": 15,
   "metadata": {},
   "outputs": [
    {
     "data": {
      "text/plain": [
       "['In',\n",
       " 'Out',\n",
       " '_',\n",
       " '__',\n",
       " '___',\n",
       " '__builtin__',\n",
       " '__builtins__',\n",
       " '__doc__',\n",
       " '__loader__',\n",
       " '__name__',\n",
       " '__package__',\n",
       " '__spec__',\n",
       " '_dh',\n",
       " '_i',\n",
       " '_i1',\n",
       " '_i10',\n",
       " '_i11',\n",
       " '_i12',\n",
       " '_i13',\n",
       " '_i14',\n",
       " '_i15',\n",
       " '_i2',\n",
       " '_i3',\n",
       " '_i4',\n",
       " '_i5',\n",
       " '_i6',\n",
       " '_i7',\n",
       " '_i8',\n",
       " '_i9',\n",
       " '_ih',\n",
       " '_ii',\n",
       " '_iii',\n",
       " '_oh',\n",
       " 'exit',\n",
       " 'get_ipython',\n",
       " 'i',\n",
       " 'module_using_name',\n",
       " 'newstring',\n",
       " 'quit',\n",
       " 'sys']"
      ]
     },
     "execution_count": 15,
     "metadata": {},
     "output_type": "execute_result"
    }
   ],
   "source": [
    "dir()"
   ]
  },
  {
   "cell_type": "markdown",
   "metadata": {},
   "source": [
    "## Data Structures\n",
    "\n",
    "* list, mutable,  a data structure that holds an ordered collection of items enclosed in square brackets. A list is an example of usage of objects and classes. \n",
    "\n",
    "* List can be used as stacks and queues. \n",
    "\n",
    " --- \n",
    "\n",
    "* tuple, immutable, hold together multiple objects. Tuples are defined by specifying items separated by commas within an optional pair of parentheses.\n",
    "\n",
    "* dictionary contains pairs of keys (unique, immutable) and values (mutable). The dictionaries are instances/objects of the dict class.\n",
    "\n",
    "\n",
    "* set, unordered collections of simple objects. Can test membership, subset, intersection between two sets and so on.\n",
    "\n"
   ]
  },
  {
   "cell_type": "code",
   "execution_count": 1,
   "metadata": {},
   "outputs": [
    {
     "name": "stdout",
     "output_type": "stream",
     "text": [
      "These items are:  apple mango carrot banana \n",
      "I also have to buy rice.\n",
      "My shopping list is updated as  ['apple', 'mango', 'carrot', 'banana', 'rice']\n",
      "Don't want to buy apple\n",
      "My shopping list is updated as ['mango', 'carrot', 'banana', 'rice']\n",
      "['a', 'b', 'c', 'd']\n"
     ]
    }
   ],
   "source": [
    "# list example \n",
    "shoplist = ['apple', 'mango', 'carrot', 'banana']\n",
    "\n",
    "\n",
    "print('These items are: ', end = ' ')\n",
    "for item in shoplist:\n",
    "    print(item, end=' ')\n",
    "\n",
    "print('\\nI also have to buy rice.')\n",
    "shoplist.append('rice')\n",
    "print('My shopping list is updated as ', shoplist)\n",
    "\n",
    "\n",
    "\n",
    "print('Don\\'t want to buy', shoplist[0])\n",
    "\n",
    "del shoplist[0]\n",
    "print('My shopping list is updated as', shoplist)\n",
    "\n",
    "# add two lists \n",
    "\n",
    "list1 = ['a', 'b']\n",
    "list2 = ['c', 'd']\n",
    "print(list1 + list2)"
   ]
  },
  {
   "cell_type": "code",
   "execution_count": 1,
   "metadata": {},
   "outputs": [
    {
     "data": {
      "text/plain": [
       "2"
      ]
     },
     "execution_count": 1,
     "metadata": {},
     "output_type": "execute_result"
    }
   ],
   "source": [
    "## More list examples \n",
    "fruits = ['orange', 'apple', 'pear', 'banana', 'kiwi', 'apple', 'banana']\n",
    "fruits.count('apple')"
   ]
  },
  {
   "cell_type": "code",
   "execution_count": 2,
   "metadata": {},
   "outputs": [
    {
     "data": {
      "text/plain": [
       "1"
      ]
     },
     "execution_count": 2,
     "metadata": {},
     "output_type": "execute_result"
    }
   ],
   "source": [
    "fruits.index('apple')  # the index of the first item "
   ]
  },
  {
   "cell_type": "code",
   "execution_count": 3,
   "metadata": {},
   "outputs": [
    {
     "data": {
      "text/plain": [
       "5"
      ]
     },
     "execution_count": 3,
     "metadata": {},
     "output_type": "execute_result"
    }
   ],
   "source": [
    "fruits.index('apple', 4) # find next apple starting at position 4   "
   ]
  },
  {
   "cell_type": "code",
   "execution_count": 8,
   "metadata": {},
   "outputs": [
    {
     "data": {
      "text/plain": [
       "['banana', 'apple', 'kiwi', 'banana', 'pear', 'apple', 'orange']"
      ]
     },
     "execution_count": 8,
     "metadata": {},
     "output_type": "execute_result"
    }
   ],
   "source": [
    "fruits.reverse()  # reverse the elements in place \n",
    "fruits"
   ]
  },
  {
   "cell_type": "code",
   "execution_count": 9,
   "metadata": {},
   "outputs": [
    {
     "data": {
      "text/plain": [
       "['banana', 'apple', 'kiwi', 'banana', 'pear', 'apple', 'orange', 'grape']"
      ]
     },
     "execution_count": 9,
     "metadata": {},
     "output_type": "execute_result"
    }
   ],
   "source": [
    "fruits.append('grape') # equivalent to a[len(a):] = [x]\n",
    "fruits"
   ]
  },
  {
   "cell_type": "code",
   "execution_count": 11,
   "metadata": {},
   "outputs": [
    {
     "data": {
      "text/plain": [
       "['pear', 'orange', 'kiwi', 'grape', 'banana', 'banana', 'apple', 'apple']"
      ]
     },
     "execution_count": 11,
     "metadata": {},
     "output_type": "execute_result"
    }
   ],
   "source": [
    "fruits.sort(reverse = True)\n",
    "fruits"
   ]
  },
  {
   "cell_type": "code",
   "execution_count": 15,
   "metadata": {},
   "outputs": [
    {
     "data": {
      "text/plain": [
       "['pear', 'orange', 'kiwi', 'grape', 'banana', 'banana', 'apple', 'apple']"
      ]
     },
     "execution_count": 15,
     "metadata": {},
     "output_type": "execute_result"
    }
   ],
   "source": [
    "# copy a list \n",
    "newfruits = fruits.copy()  # equivalent to a[:], a shallow copy\n",
    "newfruits"
   ]
  },
  {
   "cell_type": "code",
   "execution_count": 16,
   "metadata": {},
   "outputs": [
    {
     "data": {
      "text/plain": [
       "['new',\n",
       " 'pear',\n",
       " 'orange',\n",
       " 'kiwi',\n",
       " 'grape',\n",
       " 'banana',\n",
       " 'banana',\n",
       " 'apple',\n",
       " 'apple']"
      ]
     },
     "execution_count": 16,
     "metadata": {},
     "output_type": "execute_result"
    }
   ],
   "source": [
    "# insert a value \n",
    "fruits.insert(0, 'new')\n",
    "fruits"
   ]
  },
  {
   "cell_type": "code",
   "execution_count": 17,
   "metadata": {},
   "outputs": [
    {
     "data": {
      "text/plain": [
       "['pear', 'orange', 'kiwi', 'grape', 'banana', 'banana', 'apple', 'apple']"
      ]
     },
     "execution_count": 17,
     "metadata": {},
     "output_type": "execute_result"
    }
   ],
   "source": [
    "# remove a value by specifying the value \n",
    "fruits.remove('new') # remove the first item in the list whose value is x \n",
    "fruits"
   ]
  },
  {
   "cell_type": "code",
   "execution_count": 39,
   "metadata": {},
   "outputs": [
    {
     "data": {
      "text/plain": [
       "['kiwi', 'grape', 'banana', 'banana', 'apple', 'apple']"
      ]
     },
     "execution_count": 39,
     "metadata": {},
     "output_type": "execute_result"
    }
   ],
   "source": [
    "# remove a value by specifying the index \n",
    "del fruits[0:2]\n",
    "fruits"
   ]
  },
  {
   "cell_type": "code",
   "execution_count": 40,
   "metadata": {},
   "outputs": [
    {
     "ename": "NameError",
     "evalue": "name 'fruits' is not defined",
     "output_type": "error",
     "traceback": [
      "\u001b[0;31m---------------------------------------------------------------------------\u001b[0m",
      "\u001b[0;31mNameError\u001b[0m                                 Traceback (most recent call last)",
      "\u001b[0;32m<ipython-input-40-6994f1ab6535>\u001b[0m in \u001b[0;36m<module>\u001b[0;34m()\u001b[0m\n\u001b[1;32m      1\u001b[0m \u001b[0;31m# delete the entire varible\u001b[0m\u001b[0;34m\u001b[0m\u001b[0;34m\u001b[0m\u001b[0m\n\u001b[1;32m      2\u001b[0m \u001b[0;32mdel\u001b[0m \u001b[0mfruits\u001b[0m\u001b[0;34m\u001b[0m\u001b[0m\n\u001b[0;32m----> 3\u001b[0;31m \u001b[0mfruits\u001b[0m\u001b[0;34m\u001b[0m\u001b[0m\n\u001b[0m",
      "\u001b[0;31mNameError\u001b[0m: name 'fruits' is not defined"
     ]
    }
   ],
   "source": [
    "# delete the entire varible \n",
    "del fruits\n",
    "fruits"
   ]
  },
  {
   "cell_type": "markdown",
   "metadata": {},
   "source": [
    "#### Use list as stacks "
   ]
  },
  {
   "cell_type": "code",
   "execution_count": 19,
   "metadata": {},
   "outputs": [
    {
     "data": {
      "text/plain": [
       "[3, 4, 5, 6, 7]"
      ]
     },
     "execution_count": 19,
     "metadata": {},
     "output_type": "execute_result"
    }
   ],
   "source": [
    "# last-in, first out \n",
    "stack = [3, 4, 5]\n",
    "stack.append(6)\n",
    "stack.append(7)\n",
    "stack"
   ]
  },
  {
   "cell_type": "code",
   "execution_count": 20,
   "metadata": {},
   "outputs": [
    {
     "data": {
      "text/plain": [
       "7"
      ]
     },
     "execution_count": 20,
     "metadata": {},
     "output_type": "execute_result"
    }
   ],
   "source": [
    "# pop \n",
    "stack.pop()"
   ]
  },
  {
   "cell_type": "code",
   "execution_count": 21,
   "metadata": {},
   "outputs": [
    {
     "data": {
      "text/plain": [
       "[3, 4, 5, 6]"
      ]
     },
     "execution_count": 21,
     "metadata": {},
     "output_type": "execute_result"
    }
   ],
   "source": [
    "stack"
   ]
  },
  {
   "cell_type": "code",
   "execution_count": 22,
   "metadata": {},
   "outputs": [
    {
     "data": {
      "text/plain": [
       "[3, 4, 5]"
      ]
     },
     "execution_count": 22,
     "metadata": {},
     "output_type": "execute_result"
    }
   ],
   "source": [
    "stack.pop()\n",
    "stack"
   ]
  },
  {
   "cell_type": "markdown",
   "metadata": {},
   "source": [
    "#### Use list as queues (first in, first out) \n",
    "\n",
    "* Lists are NOT efficient as inserts / pops from the beginning of a list is slow ( all other elementss have to be shifted by one). \n",
    "\n",
    "* Use `collections.deque` to implement a queue, which has fast appends and pops from both ends. \n"
   ]
  },
  {
   "cell_type": "code",
   "execution_count": 30,
   "metadata": {},
   "outputs": [
    {
     "data": {
      "text/plain": [
       "deque(['Eric', 'John', 'Michael', 'Terry', 'Graham'])"
      ]
     },
     "execution_count": 30,
     "metadata": {},
     "output_type": "execute_result"
    }
   ],
   "source": [
    "from collections import deque \n",
    "queue = deque(['Eric', 'John', 'Michael'])\n",
    "queue.append('Terry')\n",
    "queue.append('Graham')\n",
    "queue "
   ]
  },
  {
   "cell_type": "code",
   "execution_count": 31,
   "metadata": {},
   "outputs": [
    {
     "data": {
      "text/plain": [
       "'Eric'"
      ]
     },
     "execution_count": 31,
     "metadata": {},
     "output_type": "execute_result"
    }
   ],
   "source": [
    "# pop \n",
    "queue.popleft()"
   ]
  },
  {
   "cell_type": "code",
   "execution_count": 32,
   "metadata": {},
   "outputs": [
    {
     "data": {
      "text/plain": [
       "deque(['John', 'Michael', 'Terry', 'Graham'])"
      ]
     },
     "execution_count": 32,
     "metadata": {},
     "output_type": "execute_result"
    }
   ],
   "source": [
    "queue"
   ]
  },
  {
   "cell_type": "markdown",
   "metadata": {},
   "source": [
    "#### List comprehensions\n",
    "\n",
    "It provides a concise way to create new lists based on operations applied to another list or iterable. "
   ]
  },
  {
   "cell_type": "code",
   "execution_count": 34,
   "metadata": {},
   "outputs": [
    {
     "data": {
      "text/plain": [
       "[0, 1, 4, 9, 16, 25, 36, 49, 64, 81]"
      ]
     },
     "execution_count": 34,
     "metadata": {},
     "output_type": "execute_result"
    }
   ],
   "source": [
    "# create a list \n",
    "squares = [x**2 for x in range(10)]\n",
    "squares"
   ]
  },
  {
   "cell_type": "code",
   "execution_count": 36,
   "metadata": {},
   "outputs": [
    {
     "data": {
      "text/plain": [
       "[0, 1, 4, 9, 16, 25, 36, 49, 64, 81]"
      ]
     },
     "execution_count": 36,
     "metadata": {},
     "output_type": "execute_result"
    }
   ],
   "source": [
    "# or use map \n",
    "squares = list(map(lambda x: x**2, range(10)))\n",
    "squares"
   ]
  },
  {
   "cell_type": "code",
   "execution_count": 37,
   "metadata": {},
   "outputs": [
    {
     "data": {
      "text/plain": [
       "[(1, 3), (1, 4), (2, 3), (2, 1), (2, 4), (3, 1), (3, 4)]"
      ]
     },
     "execution_count": 37,
     "metadata": {},
     "output_type": "execute_result"
    }
   ],
   "source": [
    "# the expression is a tuple (x, y), it must be paranthesized \n",
    "[(x, y) for x in [1, 2, 3] for y in [3, 1, 4] if x != y]"
   ]
  },
  {
   "cell_type": "markdown",
   "metadata": {},
   "source": [
    "### Tuples"
   ]
  },
  {
   "cell_type": "code",
   "execution_count": 5,
   "metadata": {},
   "outputs": [
    {
     "name": "stdout",
     "output_type": "stream",
     "text": [
      "Number of animals in the zoo is 3\n",
      "Number of cages in the new zoo is 3\n"
     ]
    }
   ],
   "source": [
    "# tuple example \n",
    "zoo = ('python', 'elephant', 'penguin')\n",
    "print('Number of animals in the zoo is', len(zoo))\n",
    "\n",
    "new_zoo = 'monkey', 'camel', zoo # parentheses not required but recommended\n",
    "print('Number of cages in the new zoo is', len(new_zoo))"
   ]
  },
  {
   "cell_type": "code",
   "execution_count": 41,
   "metadata": {},
   "outputs": [
    {
     "data": {
      "text/plain": [
       "tuple"
      ]
     },
     "execution_count": 41,
     "metadata": {},
     "output_type": "execute_result"
    }
   ],
   "source": [
    "t = 12345, 54321, 'hello'\n",
    "type(t)"
   ]
  },
  {
   "cell_type": "code",
   "execution_count": 42,
   "metadata": {},
   "outputs": [
    {
     "data": {
      "text/plain": [
       "(12345, 54321, 'hello')"
      ]
     },
     "execution_count": 42,
     "metadata": {},
     "output_type": "execute_result"
    }
   ],
   "source": [
    "t"
   ]
  },
  {
   "cell_type": "code",
   "execution_count": 43,
   "metadata": {},
   "outputs": [
    {
     "data": {
      "text/plain": [
       "((12345, 54321, 'hello'), (1, 2, 3, 4, 5))"
      ]
     },
     "execution_count": 43,
     "metadata": {},
     "output_type": "execute_result"
    }
   ],
   "source": [
    "u = t, (1, 2, 3, 4, 5)  # nested tuple \n",
    "u"
   ]
  },
  {
   "cell_type": "markdown",
   "metadata": {},
   "source": [
    "##### Passing tuples around "
   ]
  },
  {
   "cell_type": "code",
   "execution_count": 52,
   "metadata": {},
   "outputs": [
    {
     "data": {
      "text/plain": [
       "(1, 'Statistics')"
      ]
     },
     "execution_count": 52,
     "metadata": {},
     "output_type": "execute_result"
    }
   ],
   "source": [
    "# return multiple values \n",
    "def get_person_info():\n",
    "    return(1, \"Statistics\")\n",
    "\n",
    "\n",
    "ids, major = get_person_info()\n",
    "(ids, major)"
   ]
  },
  {
   "cell_type": "code",
   "execution_count": 55,
   "metadata": {},
   "outputs": [
    {
     "name": "stdout",
     "output_type": "stream",
     "text": [
      "a: 1\n",
      "b: [2, 3, 4]\n",
      "a: 2\n",
      "b: 1\n"
     ]
    }
   ],
   "source": [
    "# assign the first value to a, and the rest of values to b \n",
    "a, *b = [1, 2, 3, 4]\n",
    "print('a: {0}'.format(a))\n",
    "print('b: {0}'.format(b))\n",
    "\n",
    "# swap a and b \n",
    "a = 1; b = 2\n",
    "a, b = b, a\n",
    "print('a: {0}'.format(a))\n",
    "print('b: {0}'.format(b))"
   ]
  },
  {
   "cell_type": "markdown",
   "metadata": {},
   "source": [
    "### Dictionary"
   ]
  },
  {
   "cell_type": "code",
   "execution_count": 7,
   "metadata": {},
   "outputs": [
    {
     "name": "stdout",
     "output_type": "stream",
     "text": [
      "Swaroop's address is swaroop@swaroopch.com\n",
      "Contact Swaroop at swaroop@swaroopch.com\n",
      "Contact Larry at larry@wall.org\n",
      "Contact Matsumoto at matz@ruby-lang.org\n",
      "\n",
      "Guido's address is guido@python.org\n"
     ]
    }
   ],
   "source": [
    "# dictionary example \n",
    "\n",
    "ab = {\n",
    "    'Swaroop': 'swaroop@swaroopch.com',\n",
    "    'Larry': 'larry@wall.org',\n",
    "    'Matsumoto': 'matz@ruby-lang.org',\n",
    "    'Spammer': 'spammer@hotmail.com'\n",
    "}\n",
    "\n",
    "print(\"Swaroop's address is\", ab['Swaroop']) # specify the key \n",
    "\n",
    "# Deleting a key-value pair\n",
    "del ab['Spammer']\n",
    "\n",
    "# print contents in dictionary \n",
    "for name, address in ab.items():\n",
    "    print('Contact {} at {}'.format(name, address))\n",
    "\n",
    "# Adding a key-value pair\n",
    "ab['Guido'] = 'guido@python.org'\n",
    "\n",
    "if 'Guido' in ab:\n",
    "    print(\"\\nGuido's address is\", ab['Guido'])"
   ]
  },
  {
   "cell_type": "code",
   "execution_count": 55,
   "metadata": {},
   "outputs": [
    {
     "data": {
      "text/plain": [
       "{'guido': 4234, 'sape': 4178}"
      ]
     },
     "execution_count": 55,
     "metadata": {},
     "output_type": "execute_result"
    }
   ],
   "source": [
    "# dict() constructor builds dictionaries directly from sequences of key-value pairs \n",
    "dict([('sape', 4178), ('guido', 4234)])"
   ]
  },
  {
   "cell_type": "code",
   "execution_count": 56,
   "metadata": {},
   "outputs": [
    {
     "data": {
      "text/plain": [
       "{2: 4, 4: 16, 6: 36}"
      ]
     },
     "execution_count": 56,
     "metadata": {},
     "output_type": "execute_result"
    }
   ],
   "source": [
    "# dict comprehension \n",
    "{x: x**2 for x in (2, 4, 6)}"
   ]
  },
  {
   "cell_type": "markdown",
   "metadata": {},
   "source": [
    "To summarize, lists, tuples and strings are all examples of sequences that can do\n",
    "    \n",
    "   * membership tests (in and not in)\n",
    "   * indexing operations \n",
    "   * slicing\n",
    "\n"
   ]
  },
  {
   "cell_type": "markdown",
   "metadata": {},
   "source": [
    "### Set \n",
    "\n",
    "* Created by curly braces or `set()`, curly braces can NOT create empty set and `set()` can. "
   ]
  },
  {
   "cell_type": "code",
   "execution_count": 45,
   "metadata": {},
   "outputs": [
    {
     "data": {
      "text/plain": [
       "{'apple', 'orange'}"
      ]
     },
     "execution_count": 45,
     "metadata": {},
     "output_type": "execute_result"
    }
   ],
   "source": [
    "basket = {'apple', 'orange', 'apple', 'orange'}\n",
    "basket  # no duplicates"
   ]
  },
  {
   "cell_type": "code",
   "execution_count": 48,
   "metadata": {},
   "outputs": [
    {
     "data": {
      "text/plain": [
       "{'a', 'b', 'c', 'd', 'e', 'f', 'g', 'h', 'i', 'j', 'k'}"
      ]
     },
     "execution_count": 48,
     "metadata": {},
     "output_type": "execute_result"
    }
   ],
   "source": [
    "# operations \n",
    "a = set('abcdefghijk')\n",
    "b = set('jklmnopq')\n",
    "a"
   ]
  },
  {
   "cell_type": "code",
   "execution_count": 49,
   "metadata": {},
   "outputs": [
    {
     "data": {
      "text/plain": [
       "{'a', 'b', 'c', 'd', 'e', 'f', 'g', 'h', 'i'}"
      ]
     },
     "execution_count": 49,
     "metadata": {},
     "output_type": "execute_result"
    }
   ],
   "source": [
    "a - b"
   ]
  },
  {
   "cell_type": "code",
   "execution_count": 50,
   "metadata": {},
   "outputs": [
    {
     "data": {
      "text/plain": [
       "{'a',\n",
       " 'b',\n",
       " 'c',\n",
       " 'd',\n",
       " 'e',\n",
       " 'f',\n",
       " 'g',\n",
       " 'h',\n",
       " 'i',\n",
       " 'j',\n",
       " 'k',\n",
       " 'l',\n",
       " 'm',\n",
       " 'n',\n",
       " 'o',\n",
       " 'p',\n",
       " 'q'}"
      ]
     },
     "execution_count": 50,
     "metadata": {},
     "output_type": "execute_result"
    }
   ],
   "source": [
    "a | b"
   ]
  },
  {
   "cell_type": "code",
   "execution_count": 52,
   "metadata": {},
   "outputs": [
    {
     "data": {
      "text/plain": [
       "{'a', 'b', 'c', 'd', 'e', 'f', 'g', 'h', 'i', 'l', 'm', 'n', 'o', 'p', 'q'}"
      ]
     },
     "execution_count": 52,
     "metadata": {},
     "output_type": "execute_result"
    }
   ],
   "source": [
    "a ^ b  # in a or b, but NOT both "
   ]
  },
  {
   "cell_type": "code",
   "execution_count": 53,
   "metadata": {},
   "outputs": [
    {
     "data": {
      "text/plain": [
       "{'j', 'k'}"
      ]
     },
     "execution_count": 53,
     "metadata": {},
     "output_type": "execute_result"
    }
   ],
   "source": [
    "a & b "
   ]
  },
  {
   "cell_type": "code",
   "execution_count": 54,
   "metadata": {},
   "outputs": [
    {
     "data": {
      "text/plain": [
       "{'d', 'e', 'f', 'g'}"
      ]
     },
     "execution_count": 54,
     "metadata": {},
     "output_type": "execute_result"
    }
   ],
   "source": [
    "# list comprehensions in set \n",
    "a = {x for x in 'abcdefg' if x not in 'abc'}\n",
    "a"
   ]
  },
  {
   "cell_type": "code",
   "execution_count": 10,
   "metadata": {},
   "outputs": [
    {
     "name": "stdout",
     "output_type": "stream",
     "text": [
      "True\n",
      "True\n",
      "True\n"
     ]
    },
    {
     "data": {
      "text/plain": [
       "{'china', 'india', 'russia'}"
      ]
     },
     "execution_count": 10,
     "metadata": {},
     "output_type": "execute_result"
    }
   ],
   "source": [
    "# set example \n",
    "egset = set(['brazil', 'russia', 'india'])\n",
    "print('russia' in egset) \n",
    "\n",
    "egset.add('china')\n",
    "print('china' in egset) \n",
    "\n",
    "print(egset.issuperset(egset))\n",
    "\n",
    "newset = egset.copy()\n",
    "newset.remove('brazil')\n",
    "\n",
    "# intersection \n",
    "egset & newset"
   ]
  },
  {
   "cell_type": "markdown",
   "metadata": {},
   "source": [
    "### References \n",
    "\n",
    "When creating an object and assign it to a variable, the variable only referes to the object and doesn't represent the object itself (variable names points to the part of computer memory where the object is stored).  \n",
    "\n",
    "* When making copies of a list or other sequences, need to use slicing operation to make a copy. See example below."
   ]
  },
  {
   "cell_type": "code",
   "execution_count": 12,
   "metadata": {},
   "outputs": [
    {
     "name": "stdout",
     "output_type": "stream",
     "text": [
      "Original list1 is ['apple', 'mango', 'orange', 'banana']\n",
      "list1 after deletion from test is ['mango', 'orange', 'banana']\n",
      "list1 is ['orange', 'banana']\n",
      "list2 is ['mango', 'orange', 'banana']\n"
     ]
    }
   ],
   "source": [
    "# reference example \n",
    "test = ['apple', 'mango', 'orange', 'banana']\n",
    "list1 = test \n",
    "\n",
    "print('Original list1 is', list1)\n",
    "\n",
    "# delete one element from test \n",
    "del test[0]\n",
    "\n",
    "print('list1 after deletion from test is', list1)\n",
    "\n",
    "# do a full slice \n",
    "list2 = test[:]\n",
    "\n",
    "# delement one element from test \n",
    "del test[0]\n",
    "print('list1 is', list1)\n",
    "print('list2 is', list2) # not affected "
   ]
  },
  {
   "cell_type": "markdown",
   "metadata": {},
   "source": [
    "## Object Oriented Programming\n",
    "Combine data and functionality, and wrap them inside an **object**. Classes and objects are two main aspects of object oriented programming. \n",
    "\n",
    "* **Classes** created a new type where **objects** are _instances_ of the class.\n",
    "* Variables that belong to an object or class are called as **fields**. \n",
    "* Functionality of objects are called **methods**.\n",
    "* The **fields** and **methods** can be referred as **attributes** of a class.\n",
    "* \n",
    "* **self** is like **this** in Java / C++. When calling MyObject.method(arg1, arg2), it automatically converts into MyClass.method(MyObject, arg1, arg2).\n",
    "\n",
    "* \\__init__ method is reversed by Python, it runs as soon as an object of the class is called. Usful to do initialization with the object. It's like the **constructor** function in Java / C++.\n",
    "\n",
    "-- **fields** (data part) are ordinary variables which are bound to the **namespace** of classes and objects. \n",
    "\n",
    "-- Two types of fields: **class variables** (shared by all instances of the class) and **object** variables (owned by each individual object/instance).\n"
   ]
  },
  {
   "cell_type": "code",
   "execution_count": 2,
   "metadata": {},
   "outputs": [
    {
     "name": "stdout",
     "output_type": "stream",
     "text": [
      "Hello!\n"
     ]
    }
   ],
   "source": [
    "# a simple class with a simple object methods \n",
    "class Person():\n",
    "    def sayHi(self):\n",
    "        print('Hello!')\n",
    "# test \n",
    "p = Person()\n",
    "p.sayHi()\n",
    "        "
   ]
  },
  {
   "cell_type": "code",
   "execution_count": 8,
   "metadata": {},
   "outputs": [
    {
     "name": "stdout",
     "output_type": "stream",
     "text": [
      "Hello Cy\n"
     ]
    }
   ],
   "source": [
    "# add __init__ method \n",
    "class Person():\n",
    "    def __init__(self, name):\n",
    "        self.name = name\n",
    "    def sayHi(self):\n",
    "        print('Hello', self.name)\n",
    "# test \n",
    "p = Person(\"Cy\")\n",
    "p.sayHi()"
   ]
  },
  {
   "cell_type": "code",
   "execution_count": 29,
   "metadata": {},
   "outputs": [
    {
     "name": "stdout",
     "output_type": "stream",
     "text": [
      "(Initializing R2-D2)\n",
      "R2-D2 is being destroyed!\n",
      "R2-D2 was the last one.\n",
      "Greetings, my masters call me R2-D2.\n",
      "We have 0 robots.\n",
      "(Initializing C-3PO)\n",
      "C-3PO is being destroyed!\n",
      "C-3PO was the last one.\n",
      "Greetings, my masters call me C-3PO.\n"
     ]
    }
   ],
   "source": [
    "class Robot:\n",
    "    \"\"\"Represents a robot, with a name.\"\"\"\n",
    "\n",
    "    # A class variable, counting the number of robots\n",
    "    population = 0\n",
    "\n",
    "    def __init__(self, name):\n",
    "        \"\"\"Initializes the data.\"\"\"\n",
    "        self.name = name\n",
    "        print(\"(Initializing {})\".format(self.name))\n",
    "\n",
    "        # When this person is created, the robot\n",
    "        # adds to the population\n",
    "        Robot.population += 1\n",
    "\n",
    "    def __del__(self):\n",
    "        \"\"\"I am dying.\"\"\"\n",
    "        print(\"{} is being destroyed!\".format(self.name))\n",
    "\n",
    "        Robot.population -= 1\n",
    "\n",
    "        if Robot.population == 0:\n",
    "            print(\"{} was the last one.\".format(self.name))\n",
    "        else:\n",
    "            print(\"There are still {:d} robots working.\".format(\n",
    "                Robot.population))\n",
    "\n",
    "    def say_hi(self):\n",
    "        \"\"\"Greeting by the robot.\n",
    "\n",
    "        Yeah, they can do that.\"\"\"\n",
    "        print(\"Greetings, my masters call me {}.\".format(self.name))\n",
    "\n",
    "    @classmethod\n",
    "    def how_many(cls):\n",
    "        \"\"\"Prints the current population.\"\"\"\n",
    "        print(\"We have {:d} robots.\".format(cls.population))\n",
    "\n",
    "\n",
    "droid1 = Robot(\"R2-D2\")\n",
    "droid1.say_hi()\n",
    "Robot.how_many()\n",
    "\n",
    "droid2 = Robot(\"C-3PO\")\n",
    "droid2.say_hi()\n"
   ]
  },
  {
   "cell_type": "markdown",
   "metadata": {},
   "source": [
    "#### Customization of classes \n",
    "\n",
    "The following example redefines the `__lt__` (Less Than) method in class `Interval`. "
   ]
  },
  {
   "cell_type": "code",
   "execution_count": 1,
   "metadata": {},
   "outputs": [
    {
     "name": "stdout",
     "output_type": "stream",
     "text": [
      "Before sorting:\n",
      "[1, 7]\n",
      "[4, 5]\n",
      "[2, 6]\n",
      "After sorting:\n",
      "[1, 7]\n",
      "[2, 6]\n",
      "[4, 5]\n"
     ]
    }
   ],
   "source": [
    "class Interval: \n",
    "    def __init__(self, left, right):\n",
    "        self.left = left\n",
    "        self.right = right \n",
    "    \n",
    "    def __lt__(self, other):\n",
    "        return self.left < other.left\n",
    "    \n",
    "if __name__ == \"__main__\":\n",
    "    A = []\n",
    "    A.append(Interval(1, 7))\n",
    "    A.append(Interval(4, 5))\n",
    "    A.append(Interval(2, 6))\n",
    "    print('Before sorting:')\n",
    "    for i in A:\n",
    "        print(\"[{}, {}]\".format(i.left, i.right))\n",
    "    A.sort()\n",
    "    print('After sorting:')\n",
    "    for i in A:\n",
    "        print('[{}, {}]'.format(i.left, i.right))\n",
    "    "
   ]
  },
  {
   "cell_type": "markdown",
   "metadata": {},
   "source": [
    "##### We can also define a key function passed to sort() to define how to sort "
   ]
  },
  {
   "cell_type": "code",
   "execution_count": 4,
   "metadata": {},
   "outputs": [
    {
     "name": "stdout",
     "output_type": "stream",
     "text": [
      "[4, 5]\n",
      "[2, 6]\n",
      "[1, 7]\n"
     ]
    }
   ],
   "source": [
    "# sort by the right element \n",
    "def interval_key(interval):\n",
    "    return interval.right\n",
    "A.sort(key = interval_key)\n",
    "for i in A:\n",
    "    print('[{}, {}]'.format(i.left, i.right))\n"
   ]
  },
  {
   "cell_type": "markdown",
   "metadata": {},
   "source": [
    "## Input and Output \n",
    "\n",
    "* Input from user\n",
    "\n",
    "* Input from files using `open`\n",
    "\n",
    "* Use `pickle` to store _any_ Python object in a file and then get it back later"
   ]
  },
  {
   "cell_type": "code",
   "execution_count": 31,
   "metadata": {},
   "outputs": [
    {
     "data": {
      "text/plain": [
       "'uin'"
      ]
     },
     "execution_count": 31,
     "metadata": {},
     "output_type": "execute_result"
    }
   ],
   "source": [
    "# input from user example \n",
    "# reverse a string \n",
    "def reverse(string):\n",
    "    return string[::-1]\n",
    "reverse('niu')"
   ]
  },
  {
   "cell_type": "code",
   "execution_count": 32,
   "metadata": {},
   "outputs": [
    {
     "data": {
      "text/plain": [
       "True"
      ]
     },
     "execution_count": 32,
     "metadata": {},
     "output_type": "execute_result"
    }
   ],
   "source": [
    "def is_palindrome(string):\n",
    "    return string == string[::-1]\n",
    "is_palindrome('wow')"
   ]
  },
  {
   "cell_type": "markdown",
   "metadata": {},
   "source": [
    "### Input from files \n",
    "\n",
    "* `open` with read mode `r`, write mode `w`, append mode `a`, text file mode `t` or binary mode `b` "
   ]
  },
  {
   "cell_type": "code",
   "execution_count": 35,
   "metadata": {},
   "outputs": [],
   "source": [
    "sentence = r'''I like Python as \n",
    "            it's fast and simple'''\n",
    "sentence\n",
    "# write it into a file \n",
    "f = open('inputexample.txt', 'w') # open for writing \n",
    "f.write(sentence) # write sentence into inputexample.txt \n",
    "f.close() # close the file "
   ]
  },
  {
   "cell_type": "code",
   "execution_count": 36,
   "metadata": {},
   "outputs": [
    {
     "data": {
      "text/plain": [
       "<_io.TextIOWrapper name='inputexample.txt' mode='r' encoding='UTF-8'>"
      ]
     },
     "execution_count": 36,
     "metadata": {},
     "output_type": "execute_result"
    }
   ],
   "source": [
    "# read the file \n",
    "\n",
    "sentence = open('inputexample.txt')  # 'r' mode by default\n",
    "sentence "
   ]
  },
  {
   "cell_type": "code",
   "execution_count": 39,
   "metadata": {},
   "outputs": [
    {
     "name": "stdout",
     "output_type": "stream",
     "text": [
      "I like Python as \n",
      "            it's fast and simple"
     ]
    }
   ],
   "source": [
    "# access the file with readline()\n",
    "while True: \n",
    "    line = sentence.readline()\n",
    "    if len(line) == 0:\n",
    "        break \n",
    "    print(line, end = '') # end = '' suppress the automatic new line of each print \n",
    "sentence.close()"
   ]
  },
  {
   "cell_type": "markdown",
   "metadata": {},
   "source": [
    "#### `pickle`\n",
    "\n",
    "* `pickle.dump(f1, f2)` dumps f1 into f2\n",
    "* `pickle.load(f2)` loads f2 "
   ]
  },
  {
   "cell_type": "code",
   "execution_count": 41,
   "metadata": {},
   "outputs": [
    {
     "name": "stdout",
     "output_type": "stream",
     "text": [
      "['apple', 'orange', 'banana', 'coke']\n"
     ]
    }
   ],
   "source": [
    "import pickle \n",
    "stored_file = 'stored.data'\n",
    "# file to be stored \n",
    "shoplist = ['apple', 'orange', 'banana', 'coke']\n",
    "\n",
    "# write shoplist to stored_file \n",
    "f = open(stored_file, 'wb')\n",
    "pickle.dump(shoplist, f)\n",
    "f.close()\n",
    "\n",
    "del shoplist \n",
    "\n",
    "# read from storage \n",
    "f = open(stored_file, 'rb')\n",
    "shoplist = pickle.load(f)\n",
    "print(shoplist)"
   ]
  },
  {
   "cell_type": "markdown",
   "metadata": {},
   "source": [
    "### Exceptions \n",
    "* Use `try` ... `except` \n",
    "\n",
    "* `raise` statement \n",
    "\n",
    "* `try`...`finally`, useful when you want to ensure that a file object is closed properly event there are exceptions raised. \n",
    "\n",
    "* Use `with` to do the `try`...`finally` in a cleaner way."
   ]
  },
  {
   "cell_type": "code",
   "execution_count": 43,
   "metadata": {},
   "outputs": [
    {
     "name": "stdout",
     "output_type": "stream",
     "text": [
      "Enter a color: red\n",
      "You entered red\n"
     ]
    }
   ],
   "source": [
    "# try ... except \n",
    "try:\n",
    "    text = input('Enter a color: ')\n",
    "except EOFError:\n",
    "    print('Nothing was entered.')\n",
    "except KeyboardInterrupt:\n",
    "    print('Operation was canceld.')\n",
    "else:\n",
    "    print('You entered {0}'.format(text))"
   ]
  },
  {
   "cell_type": "code",
   "execution_count": 45,
   "metadata": {},
   "outputs": [
    {
     "name": "stdout",
     "output_type": "stream",
     "text": [
      "Enter a color:we\n",
      "Input was too short: 2\n"
     ]
    }
   ],
   "source": [
    "# raise statement \n",
    "\n",
    "# create personalized exception class \n",
    "class ShortInputException(Exception):\n",
    "    def __init__(self, length, atleast):\n",
    "        Exception.__init__(self)\n",
    "        self.length = length\n",
    "        self.atleast = atleast \n",
    "try:\n",
    "    text = input('Enter a color:')\n",
    "    if len(text) < 3:\n",
    "        raise ShortInputException(len(text), 3)\n",
    "except EOFError:\n",
    "    print('Nothing was entered')\n",
    "except ShortInputException as ex:\n",
    "    print('Input was too short: {0}'.format(ex.length))\n",
    "else: \n",
    "    print('No exception was raised.')\n"
   ]
  },
  {
   "cell_type": "code",
   "execution_count": 47,
   "metadata": {},
   "outputs": [
    {
     "name": "stdout",
     "output_type": "stream",
     "text": [
      "I like Python as \n",
      "            it's fast and simple\n",
      " File closed.\n"
     ]
    }
   ],
   "source": [
    "# try... finally \n",
    "import time \n",
    "try:\n",
    "    f = open('inputexample.txt')\n",
    "    while True:\n",
    "        line = f.readline()\n",
    "        if len(line) == 0:\n",
    "            break\n",
    "        print(line, end = '')\n",
    "        time.sleep(1)\n",
    "except KeyboardInterrupt:\n",
    "    print(\"Reading of the file was cancelld.\")\n",
    "finally:\n",
    "    f.close()\n",
    "    print('\\n File closed.')"
   ]
  },
  {
   "cell_type": "code",
   "execution_count": 48,
   "metadata": {},
   "outputs": [
    {
     "name": "stdout",
     "output_type": "stream",
     "text": [
      "I like Python as \n",
      "            it's fast and simple"
     ]
    }
   ],
   "source": [
    "# use with statement \n",
    "from contextlib import contextmanager \n",
    "@contextmanager \n",
    "def opened(filename, mode = 'r'):\n",
    "    f = open(filename, mode)\n",
    "    try:\n",
    "        yield f\n",
    "    finally:\n",
    "        f.close()\n",
    "# now open the file with 'with'\n",
    "with opened('inputexample.txt') as f:\n",
    "    for line in f:\n",
    "        print(line, end = '')"
   ]
  }
 ],
 "metadata": {
  "kernelspec": {
   "display_name": "Python 3",
   "language": "python",
   "name": "python3"
  },
  "language_info": {
   "codemirror_mode": {
    "name": "ipython",
    "version": 3
   },
   "file_extension": ".py",
   "mimetype": "text/x-python",
   "name": "python",
   "nbconvert_exporter": "python",
   "pygments_lexer": "ipython3",
   "version": "3.6.7"
  }
 },
 "nbformat": 4,
 "nbformat_minor": 2
}
