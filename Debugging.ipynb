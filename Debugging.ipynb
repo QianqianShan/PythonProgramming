{
 "cells": [
  {
   "cell_type": "markdown",
   "metadata": {},
   "source": [
    "## Debugging"
   ]
  },
  {
   "cell_type": "markdown",
   "metadata": {},
   "source": [
    "* Use `try` ... `except` \n",
    "\n",
    "* `raise` statement \n",
    "\n",
    "* `try`...`finally`, useful when you want to ensure that a file object is closed properly event there are exceptions raised. \n",
    "\n",
    "* Use `with` to do the `try`...`finally` in a cleaner way.\n",
    "\n",
    "* Use `assert` to insert debugging assertions into a program (https://docs.python.org/3/reference/simple_stmts.html#the-assert-statement)\n",
    "\n",
    "* User `logging` module"
   ]
  },
  {
   "cell_type": "markdown",
   "metadata": {},
   "source": [
    "### `try` ... `except` "
   ]
  },
  {
   "cell_type": "code",
   "execution_count": null,
   "metadata": {},
   "outputs": [],
   "source": [
    "# try ... except \n",
    "try:\n",
    "    text = input('Enter a color: ')\n",
    "except EOFError:\n",
    "    print('Nothing was entered.')\n",
    "except KeyboardInterrupt:\n",
    "    print('Operation was canceld.')\n",
    "else:\n",
    "    print('You entered {0}'.format(text))"
   ]
  },
  {
   "cell_type": "markdown",
   "metadata": {},
   "source": [
    "### `raise` statement "
   ]
  },
  {
   "cell_type": "code",
   "execution_count": null,
   "metadata": {},
   "outputs": [],
   "source": [
    "# raise statement \n",
    "\n",
    "# create personalized exception class \n",
    "class ShortInputException(Exception):\n",
    "    def __init__(self, length, atleast):\n",
    "        Exception.__init__(self)\n",
    "        self.length = length\n",
    "        self.atleast = atleast \n",
    "try:\n",
    "    text = input('Enter a color:')\n",
    "    if len(text) < 3:\n",
    "        raise ShortInputException(len(text), 3)\n",
    "except EOFError:\n",
    "    print('Nothing was entered')\n",
    "except ShortInputException as ex:\n",
    "    print('Input was too short: {0}'.format(ex.length))\n",
    "else: \n",
    "    print('No exception was raised.')"
   ]
  },
  {
   "cell_type": "markdown",
   "metadata": {},
   "source": [
    "###  `try`...`finally`"
   ]
  },
  {
   "cell_type": "code",
   "execution_count": null,
   "metadata": {},
   "outputs": [],
   "source": [
    "# try... finally \n",
    "import time \n",
    "try:\n",
    "    f = open('inputexample.txt')\n",
    "    while True:\n",
    "        line = f.readline()\n",
    "        if len(line) == 0:\n",
    "            break\n",
    "        print(line, end = '')\n",
    "        time.sleep(1)\n",
    "except KeyboardInterrupt:\n",
    "    print(\"Reading of the file was cancelld.\")\n",
    "finally:\n",
    "    f.close()\n",
    "    print('\\n File closed.')"
   ]
  },
  {
   "cell_type": "markdown",
   "metadata": {},
   "source": [
    "### `with`"
   ]
  },
  {
   "cell_type": "code",
   "execution_count": null,
   "metadata": {},
   "outputs": [],
   "source": [
    "# use with statement \n",
    "from contextlib import contextmanager \n",
    "@contextmanager \n",
    "def opened(filename, mode = 'r'):\n",
    "    f = open(filename, mode)\n",
    "    try:\n",
    "        yield f\n",
    "    finally:\n",
    "        f.close()\n",
    "# now open the file with 'with'\n",
    "with opened('inputexample.txt') as f:\n",
    "    for line in f:\n",
    "        print(line, end = '')"
   ]
  },
  {
   "cell_type": "markdown",
   "metadata": {},
   "source": [
    "### `assert`"
   ]
  },
  {
   "cell_type": "code",
   "execution_count": 7,
   "metadata": {},
   "outputs": [],
   "source": [
    "open_status = 'open'\n",
    "# expression , a string to display when expression is False \n",
    "assert open_status == 'open', 'The status needs to be \"open\"'\n"
   ]
  },
  {
   "cell_type": "code",
   "execution_count": 9,
   "metadata": {},
   "outputs": [
    {
     "ename": "AssertionError",
     "evalue": "The status needs to be \"open\"",
     "output_type": "error",
     "traceback": [
      "\u001b[0;31m---------------------------------------------------------------------------\u001b[0m",
      "\u001b[0;31mAssertionError\u001b[0m                            Traceback (most recent call last)",
      "\u001b[0;32m<ipython-input-9-76538a26f503>\u001b[0m in \u001b[0;36m<module>\u001b[0;34m\u001b[0m\n\u001b[1;32m      1\u001b[0m \u001b[0mopen_status\u001b[0m \u001b[0;34m=\u001b[0m \u001b[0;34m'close'\u001b[0m\u001b[0;34m\u001b[0m\u001b[0;34m\u001b[0m\u001b[0m\n\u001b[0;32m----> 2\u001b[0;31m \u001b[0;32massert\u001b[0m \u001b[0mopen_status\u001b[0m \u001b[0;34m==\u001b[0m \u001b[0;34m'open'\u001b[0m\u001b[0;34m,\u001b[0m \u001b[0;34m'The status needs to be \"open\"'\u001b[0m\u001b[0;34m\u001b[0m\u001b[0;34m\u001b[0m\u001b[0m\n\u001b[0m",
      "\u001b[0;31mAssertionError\u001b[0m: The status needs to be \"open\""
     ]
    }
   ],
   "source": [
    "# AssertionError is raised\n",
    "open_status = 'close'\n",
    "assert open_status == 'open', 'The status needs to be \"open\"'"
   ]
  },
  {
   "cell_type": "markdown",
   "metadata": {},
   "source": [
    "### `logging` module \n",
    "\n",
    "Advantages are:\n",
    "\n",
    "* Easy to see timestemp of each message \n",
    "\n",
    "* Can set different levels of importance of messages \n",
    "\n",
    "* Can find or remove the log messages without manually cleaning all statements from code \n",
    "\n",
    "* Can conveniently save the log messages to a file \n"
   ]
  },
  {
   "cell_type": "code",
   "execution_count": 13,
   "metadata": {},
   "outputs": [
    {
     "name": "stderr",
     "output_type": "stream",
     "text": [
      " 2019-05-13 01:09:50,798 - DEBUG - Start of program\n",
      " 2019-05-13 01:09:50,800 - DEBUG - Start of factorial (5%)\n",
      " 2019-05-13 01:09:50,801 - DEBUG - i is 0 total is 0\n",
      " 2019-05-13 01:09:50,802 - DEBUG - i is 1 total is 0\n",
      " 2019-05-13 01:09:50,804 - DEBUG - i is 2 total is 0\n",
      " 2019-05-13 01:09:50,805 - DEBUG - i is 3 total is 0\n",
      " 2019-05-13 01:09:50,806 - DEBUG - i is 4 total is 0\n",
      " 2019-05-13 01:09:50,806 - DEBUG - i is 5 total is 0\n",
      " 2019-05-13 01:09:50,807 - DEBUG - End of factorial (5%)\n",
      " 2019-05-13 01:09:50,808 - DEBUG - End of program\n"
     ]
    },
    {
     "name": "stdout",
     "output_type": "stream",
     "text": [
      "0\n"
     ]
    }
   ],
   "source": [
    "import logging \n",
    "# create a LogRecord object \n",
    "logging.basicConfig(level = logging.DEBUG, format = ' %(asctime)s - %(levelname)s - %(message)s')\n",
    "\n",
    "# call debug function\n",
    "logging.debug('Start of program')\n",
    "\n",
    "def factorial(n):\n",
    "    logging.debug('Start of factorial (%s%%)' % (n))\n",
    "    total = 1 \n",
    "    for i in range(n + 1):\n",
    "        total *= i \n",
    "        logging.debug('i is ' + str(i) + ' total is ' + str(total))\n",
    "    logging.debug('End of factorial (%s%%)' % (n))\n",
    "    return total \n",
    "print(factorial(5))\n",
    "\n",
    "logging.debug('End of program')\n"
   ]
  },
  {
   "cell_type": "code",
   "execution_count": 14,
   "metadata": {},
   "outputs": [
    {
     "name": "stdout",
     "output_type": "stream",
     "text": [
      "0\n"
     ]
    }
   ],
   "source": [
    "# disable the debug \n",
    "import logging \n",
    "# create a LogRecord object \n",
    "logging.basicConfig(level = logging.DEBUG, format = ' %(asctime)s - %(levelname)s - %(message)s')\n",
    "\n",
    "# disable all logging on critical level or lower (critical is the highest level)\n",
    "logging.disable(logging.CRITICAL)\n",
    "\n",
    "# call debug function\n",
    "logging.debug('Start of program')\n",
    "\n",
    "def factorial(n):\n",
    "    logging.debug('Start of factorial (%s%%)' % (n))\n",
    "    total = 1 \n",
    "    for i in range(n + 1):\n",
    "        total *= i \n",
    "        logging.debug('i is ' + str(i) + ' total is ' + str(total))\n",
    "    logging.debug('End of factorial (%s%%)' % (n))\n",
    "    return total \n",
    "print(factorial(5))\n",
    "\n",
    "logging.debug('End of program')\n"
   ]
  },
  {
   "cell_type": "code",
   "execution_count": 4,
   "metadata": {},
   "outputs": [
    {
     "name": "stderr",
     "output_type": "stream",
     "text": [
      " 2019-05-13 01:21:13,234 - DEBUG - Start of program\n",
      " 2019-05-13 01:21:13,246 - DEBUG - Start of factorial (5%)\n",
      " 2019-05-13 01:21:13,247 - DEBUG - i is 0 total is 0\n",
      " 2019-05-13 01:21:13,249 - DEBUG - i is 1 total is 0\n",
      " 2019-05-13 01:21:13,250 - DEBUG - i is 2 total is 0\n",
      " 2019-05-13 01:21:13,252 - DEBUG - i is 3 total is 0\n",
      " 2019-05-13 01:21:13,254 - DEBUG - i is 4 total is 0\n",
      " 2019-05-13 01:21:13,259 - DEBUG - i is 5 total is 0\n",
      " 2019-05-13 01:21:13,261 - DEBUG - End of factorial (5%)\n",
      " 2019-05-13 01:21:13,263 - DEBUG - End of program\n"
     ]
    },
    {
     "name": "stdout",
     "output_type": "stream",
     "text": [
      "0\n"
     ]
    }
   ],
   "source": [
    "# write debug contents to a file \n",
    "import logging \n",
    "# create a LogRecord object \n",
    "logging.basicConfig(filename = 'debugfile.txt',level = logging.DEBUG, format = ' %(asctime)s - %(levelname)s - %(message)s')\n",
    "\n",
    "# call debug function\n",
    "logging.debug('Start of program')\n",
    "def factorial(n):\n",
    "    logging.debug('Start of factorial (%s%%)' % (n))\n",
    "    total = 1 \n",
    "    for i in range(n + 1):\n",
    "        total *= i \n",
    "        logging.debug('i is ' + str(i) + ' total is ' + str(total))\n",
    "    logging.debug('End of factorial (%s%%)' % (n))\n",
    "    return total \n",
    "print(factorial(5))\n",
    "\n",
    "logging.debug('End of program')"
   ]
  }
 ],
 "metadata": {
  "kernelspec": {
   "display_name": "Python 3",
   "language": "python",
   "name": "python3"
  },
  "language_info": {
   "codemirror_mode": {
    "name": "ipython",
    "version": 3
   },
   "file_extension": ".py",
   "mimetype": "text/x-python",
   "name": "python",
   "nbconvert_exporter": "python",
   "pygments_lexer": "ipython3",
   "version": "3.6.7"
  }
 },
 "nbformat": 4,
 "nbformat_minor": 2
}
